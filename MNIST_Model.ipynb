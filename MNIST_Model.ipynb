{
 "cells": [
  {
   "cell_type": "code",
   "execution_count": 1,
   "id": "950d4ece-0b21-470c-907c-b0771f428f6c",
   "metadata": {},
   "outputs": [],
   "source": [
    "import numpy as np\n",
    "import pandas as pd\n",
    "import torch as T\n",
    "import torch.nn as nn\n",
    "import torch.nn.functional as F\n",
    "import torch.optim as optim\n",
    "from sklearn.utils import shuffle\n",
    "from matplotlib import pyplot as plt"
   ]
  },
  {
   "cell_type": "markdown",
   "id": "6454b05a-013d-414e-9354-8c800bbebee3",
   "metadata": {},
   "source": [
    "## Model Class"
   ]
  },
  {
   "cell_type": "code",
   "execution_count": 2,
   "id": "008d2b03-4e54-4cc9-b161-e551b7e09fc9",
   "metadata": {},
   "outputs": [],
   "source": [
    "class CNN_Classification_Model(nn.Module):\n",
    "    def __init__(self, input_dims, num_classes, learning_rate=1e-04):\n",
    "        super(CNN_Classification_Model, self).__init__()\n",
    "\n",
    "        self.input_dims = input_dims\n",
    "        self.n_classes = n_classes\n",
    "        \n",
    "        self.conv = nn.Conv2d(input_dims[0], 32, kernel_size=3, stride=1)\n",
    "        self.pool = nn.MaxPool2d(2, 2)\n",
    "\n",
    "        fc_input_dims = self.calculate_fc_input_dims()\n",
    "\n",
    "        self.fc1 = nn.Linear(fc_input_dims, 256)\n",
    "        self.fc2 = nn.Linear(256, n_classes)\n",
    "\n",
    "        self.loss = nn.CrossEntropyLoss()\n",
    "        self.optimizer = optim.Adam(self.parameters(), lr=learning_rate)\n",
    "\n",
    "    def forward(self, X):\n",
    "        conv = F.relu(self.conv(X))\n",
    "        pool = self.pool(conv)\n",
    "        fc_input = pool.view(pool.shape[0], -1)\n",
    "        fc1 = F.relu(self.fc1(fc_input))\n",
    "        fc2 = self.fc2(fc1)\n",
    "        return F.softmax(fc2, dim=1)\n",
    "\n",
    "\n",
    "    def calculate_fc_input_dims(self):\n",
    "        x = T.zeros((1,) + self.input_dims)\n",
    "        x = self.conv(x)\n",
    "        x = self.pool(x)\n",
    "        x = x.view(x.shape[0], -1)\n",
    "        return x.shape[1]\n",
    "    \n",
    "    \n",
    "    def fit(self, X, Y, epochs=1000, print_every=100, batch_size=256):\n",
    "        \n",
    "        n_batches = int(np.ceil(X.shape[0]/batch_size))\n",
    "        val_idx = 0\n",
    "        \n",
    "        train_loss_per_epoch = []\n",
    "        val_loss_per_epoch = []\n",
    "        \n",
    "        for epoch in range(epochs):\n",
    "            \n",
    "            batch_train_loss = 0\n",
    "            \n",
    "            batch_indices = [n for n in range(n_batches)]\n",
    "            batch_indices.pop(val_idx)\n",
    "            \n",
    "            for i in batch_indices:\n",
    "                Xbatch_train = X[i*batch_size:(i+1)*batch_size]\n",
    "                Ybatch_train = Y[i*batch_size:(i+1)*batch_size]\n",
    "            \n",
    "                self.optimizer.zero_grad()\n",
    "                Yhat_train = self.forward(Xbatch_train)\n",
    "                loss = self.loss(Yhat_train, Ybatch_train)\n",
    "                batch_train_loss += loss.item()\n",
    "                \n",
    "                loss.backward()\n",
    "                self.optimizer.step()\n",
    "            \n",
    "            batch_train_loss /= n_batches\n",
    "            \n",
    "            Xbatch_val = X[val_idx*batch_size:(val_idx+1)*batch_size]\n",
    "            Ybatch_val = Y[val_idx*batch_size:(val_idx+1)*batch_size]\n",
    "            Yhat_val = self.forward(Xbatch_val).detach()\n",
    "            batch_val_loss = self.loss(Yhat_val, Ybatch_val).detach().item()\n",
    "\n",
    "            val_idx = (val_idx + 1) % n_batches\n",
    "            \n",
    "            train_loss_per_epoch.append(batch_train_loss)\n",
    "            val_loss_per_epoch.append(batch_val_loss)\n",
    "            \n",
    "            if epoch == 0 or (epoch+1) % print_every == 0:\n",
    "                print(f'[ Epoch: {epoch+1} / {epochs} | Training Loss: {batch_train_loss:.3f}] | Validation Loss: {batch_val_loss:.3f}')\n",
    "\n",
    "        return train_loss_per_epoch, val_loss_per_epoch\n",
    "            \n",
    "    "
   ]
  },
  {
   "cell_type": "markdown",
   "id": "ede47947-f197-4433-81d4-3f0a1520ce2a",
   "metadata": {},
   "source": [
    "## Model Training"
   ]
  },
  {
   "cell_type": "code",
   "execution_count": 3,
   "id": "9a43f2a6-dbd9-4807-91a6-d8bf1990e44d",
   "metadata": {},
   "outputs": [],
   "source": [
    "data = pd.read_csv('DataFiles/mnist_train.csv')"
   ]
  },
  {
   "cell_type": "code",
   "execution_count": 4,
   "id": "d6ea8d9f-70c7-41f8-842a-080d68b7f2ec",
   "metadata": {},
   "outputs": [
    {
     "data": {
      "text/html": [
       "<div>\n",
       "<style scoped>\n",
       "    .dataframe tbody tr th:only-of-type {\n",
       "        vertical-align: middle;\n",
       "    }\n",
       "\n",
       "    .dataframe tbody tr th {\n",
       "        vertical-align: top;\n",
       "    }\n",
       "\n",
       "    .dataframe thead th {\n",
       "        text-align: right;\n",
       "    }\n",
       "</style>\n",
       "<table border=\"1\" class=\"dataframe\">\n",
       "  <thead>\n",
       "    <tr style=\"text-align: right;\">\n",
       "      <th></th>\n",
       "      <th>label</th>\n",
       "      <th>1x1</th>\n",
       "      <th>1x2</th>\n",
       "      <th>1x3</th>\n",
       "      <th>1x4</th>\n",
       "      <th>1x5</th>\n",
       "      <th>1x6</th>\n",
       "      <th>1x7</th>\n",
       "      <th>1x8</th>\n",
       "      <th>1x9</th>\n",
       "      <th>...</th>\n",
       "      <th>28x19</th>\n",
       "      <th>28x20</th>\n",
       "      <th>28x21</th>\n",
       "      <th>28x22</th>\n",
       "      <th>28x23</th>\n",
       "      <th>28x24</th>\n",
       "      <th>28x25</th>\n",
       "      <th>28x26</th>\n",
       "      <th>28x27</th>\n",
       "      <th>28x28</th>\n",
       "    </tr>\n",
       "  </thead>\n",
       "  <tbody>\n",
       "    <tr>\n",
       "      <th>0</th>\n",
       "      <td>5</td>\n",
       "      <td>0</td>\n",
       "      <td>0</td>\n",
       "      <td>0</td>\n",
       "      <td>0</td>\n",
       "      <td>0</td>\n",
       "      <td>0</td>\n",
       "      <td>0</td>\n",
       "      <td>0</td>\n",
       "      <td>0</td>\n",
       "      <td>...</td>\n",
       "      <td>0</td>\n",
       "      <td>0</td>\n",
       "      <td>0</td>\n",
       "      <td>0</td>\n",
       "      <td>0</td>\n",
       "      <td>0</td>\n",
       "      <td>0</td>\n",
       "      <td>0</td>\n",
       "      <td>0</td>\n",
       "      <td>0</td>\n",
       "    </tr>\n",
       "    <tr>\n",
       "      <th>1</th>\n",
       "      <td>0</td>\n",
       "      <td>0</td>\n",
       "      <td>0</td>\n",
       "      <td>0</td>\n",
       "      <td>0</td>\n",
       "      <td>0</td>\n",
       "      <td>0</td>\n",
       "      <td>0</td>\n",
       "      <td>0</td>\n",
       "      <td>0</td>\n",
       "      <td>...</td>\n",
       "      <td>0</td>\n",
       "      <td>0</td>\n",
       "      <td>0</td>\n",
       "      <td>0</td>\n",
       "      <td>0</td>\n",
       "      <td>0</td>\n",
       "      <td>0</td>\n",
       "      <td>0</td>\n",
       "      <td>0</td>\n",
       "      <td>0</td>\n",
       "    </tr>\n",
       "    <tr>\n",
       "      <th>2</th>\n",
       "      <td>4</td>\n",
       "      <td>0</td>\n",
       "      <td>0</td>\n",
       "      <td>0</td>\n",
       "      <td>0</td>\n",
       "      <td>0</td>\n",
       "      <td>0</td>\n",
       "      <td>0</td>\n",
       "      <td>0</td>\n",
       "      <td>0</td>\n",
       "      <td>...</td>\n",
       "      <td>0</td>\n",
       "      <td>0</td>\n",
       "      <td>0</td>\n",
       "      <td>0</td>\n",
       "      <td>0</td>\n",
       "      <td>0</td>\n",
       "      <td>0</td>\n",
       "      <td>0</td>\n",
       "      <td>0</td>\n",
       "      <td>0</td>\n",
       "    </tr>\n",
       "    <tr>\n",
       "      <th>3</th>\n",
       "      <td>1</td>\n",
       "      <td>0</td>\n",
       "      <td>0</td>\n",
       "      <td>0</td>\n",
       "      <td>0</td>\n",
       "      <td>0</td>\n",
       "      <td>0</td>\n",
       "      <td>0</td>\n",
       "      <td>0</td>\n",
       "      <td>0</td>\n",
       "      <td>...</td>\n",
       "      <td>0</td>\n",
       "      <td>0</td>\n",
       "      <td>0</td>\n",
       "      <td>0</td>\n",
       "      <td>0</td>\n",
       "      <td>0</td>\n",
       "      <td>0</td>\n",
       "      <td>0</td>\n",
       "      <td>0</td>\n",
       "      <td>0</td>\n",
       "    </tr>\n",
       "    <tr>\n",
       "      <th>4</th>\n",
       "      <td>9</td>\n",
       "      <td>0</td>\n",
       "      <td>0</td>\n",
       "      <td>0</td>\n",
       "      <td>0</td>\n",
       "      <td>0</td>\n",
       "      <td>0</td>\n",
       "      <td>0</td>\n",
       "      <td>0</td>\n",
       "      <td>0</td>\n",
       "      <td>...</td>\n",
       "      <td>0</td>\n",
       "      <td>0</td>\n",
       "      <td>0</td>\n",
       "      <td>0</td>\n",
       "      <td>0</td>\n",
       "      <td>0</td>\n",
       "      <td>0</td>\n",
       "      <td>0</td>\n",
       "      <td>0</td>\n",
       "      <td>0</td>\n",
       "    </tr>\n",
       "  </tbody>\n",
       "</table>\n",
       "<p>5 rows × 785 columns</p>\n",
       "</div>"
      ],
      "text/plain": [
       "   label  1x1  1x2  1x3  1x4  1x5  1x6  1x7  1x8  1x9  ...  28x19  28x20   \n",
       "0      5    0    0    0    0    0    0    0    0    0  ...      0      0  \\\n",
       "1      0    0    0    0    0    0    0    0    0    0  ...      0      0   \n",
       "2      4    0    0    0    0    0    0    0    0    0  ...      0      0   \n",
       "3      1    0    0    0    0    0    0    0    0    0  ...      0      0   \n",
       "4      9    0    0    0    0    0    0    0    0    0  ...      0      0   \n",
       "\n",
       "   28x21  28x22  28x23  28x24  28x25  28x26  28x27  28x28  \n",
       "0      0      0      0      0      0      0      0      0  \n",
       "1      0      0      0      0      0      0      0      0  \n",
       "2      0      0      0      0      0      0      0      0  \n",
       "3      0      0      0      0      0      0      0      0  \n",
       "4      0      0      0      0      0      0      0      0  \n",
       "\n",
       "[5 rows x 785 columns]"
      ]
     },
     "execution_count": 4,
     "metadata": {},
     "output_type": "execute_result"
    }
   ],
   "source": [
    "data.head()"
   ]
  },
  {
   "cell_type": "code",
   "execution_count": 5,
   "id": "ec239e93-8233-4197-930e-015cde0cbd46",
   "metadata": {},
   "outputs": [],
   "source": [
    "labels = data['label']\n",
    "rowPics = data.drop(['label'], axis=1)\n",
    "rowPics = np.array(rowPics)"
   ]
  },
  {
   "cell_type": "code",
   "execution_count": 6,
   "id": "0f4b75f2-3fc1-4434-b9f4-636ef330aed6",
   "metadata": {},
   "outputs": [
    {
     "name": "stdout",
     "output_type": "stream",
     "text": [
      "(60000, 1, 28, 28)\n"
     ]
    }
   ],
   "source": [
    "pictures = []\n",
    "for i in range(rowPics.shape[0]):\n",
    "    pic = rowPics[i,:]\n",
    "    pictures.append(np.reshape(pic, (1, 28, 28)))\n",
    "pictures = np.array(pictures)\n",
    "print(pictures.shape)"
   ]
  },
  {
   "cell_type": "code",
   "execution_count": 7,
   "id": "14e53015-f7dd-4185-b2bb-5d3ab5022486",
   "metadata": {},
   "outputs": [
    {
     "name": "stdout",
     "output_type": "stream",
     "text": [
      "(1, 28, 28) 10\n"
     ]
    }
   ],
   "source": [
    "input_dims = pictures[0,:,:].shape\n",
    "n_classes = len(set(labels[:]))\n",
    "print(input_dims, n_classes)"
   ]
  },
  {
   "cell_type": "code",
   "execution_count": 8,
   "id": "83ac6226-5250-4da8-a0c9-5ed6b08fc373",
   "metadata": {},
   "outputs": [],
   "source": [
    "model = CNN_Classification_Model(input_dims, n_classes)"
   ]
  },
  {
   "cell_type": "code",
   "execution_count": 9,
   "id": "55fbb00a-da87-4e24-bc32-281ff2d07ec8",
   "metadata": {},
   "outputs": [],
   "source": [
    "X = T.tensor(pictures)/255.\n",
    "Y = T.LongTensor(labels)"
   ]
  },
  {
   "cell_type": "code",
   "execution_count": 10,
   "id": "2cd0b83d-850c-4ae2-9309-9186bfbaa4e1",
   "metadata": {},
   "outputs": [
    {
     "name": "stdout",
     "output_type": "stream",
     "text": [
      "[ Epoch: 1 / 200 | Training Loss: 2.110] | Validation Loss: 1.955\n",
      "[ Epoch: 10 / 200 | Training Loss: 1.522] | Validation Loss: 1.543\n",
      "[ Epoch: 20 / 200 | Training Loss: 1.489] | Validation Loss: 1.501\n",
      "[ Epoch: 30 / 200 | Training Loss: 1.475] | Validation Loss: 1.500\n",
      "[ Epoch: 40 / 200 | Training Loss: 1.466] | Validation Loss: 1.486\n",
      "[ Epoch: 50 / 200 | Training Loss: 1.460] | Validation Loss: 1.489\n",
      "[ Epoch: 60 / 200 | Training Loss: 1.456] | Validation Loss: 1.484\n",
      "[ Epoch: 70 / 200 | Training Loss: 1.454] | Validation Loss: 1.474\n",
      "[ Epoch: 80 / 200 | Training Loss: 1.451] | Validation Loss: 1.481\n",
      "[ Epoch: 90 / 200 | Training Loss: 1.449] | Validation Loss: 1.478\n",
      "[ Epoch: 100 / 200 | Training Loss: 1.448] | Validation Loss: 1.476\n",
      "[ Epoch: 110 / 200 | Training Loss: 1.447] | Validation Loss: 1.476\n",
      "[ Epoch: 120 / 200 | Training Loss: 1.446] | Validation Loss: 1.473\n",
      "[ Epoch: 130 / 200 | Training Loss: 1.445] | Validation Loss: 1.470\n",
      "[ Epoch: 140 / 200 | Training Loss: 1.444] | Validation Loss: 1.465\n",
      "[ Epoch: 150 / 200 | Training Loss: 1.443] | Validation Loss: 1.470\n",
      "[ Epoch: 160 / 200 | Training Loss: 1.442] | Validation Loss: 1.468\n",
      "[ Epoch: 170 / 200 | Training Loss: 1.442] | Validation Loss: 1.468\n",
      "[ Epoch: 180 / 200 | Training Loss: 1.442] | Validation Loss: 1.467\n",
      "[ Epoch: 190 / 200 | Training Loss: 1.441] | Validation Loss: 1.466\n",
      "[ Epoch: 200 / 200 | Training Loss: 1.441] | Validation Loss: 1.464\n"
     ]
    }
   ],
   "source": [
    "train_losses, val_losses = model.fit(X, Y, epochs=200, print_every=10, batch_size=1024)"
   ]
  },
  {
   "cell_type": "code",
   "execution_count": 11,
   "id": "2292520d-d9c7-4437-b30c-947753f47405",
   "metadata": {},
   "outputs": [],
   "source": [
    "T.save(model.state_dict(), 'MNIST_model.pt')"
   ]
  },
  {
   "cell_type": "code",
   "execution_count": 13,
   "id": "f5081678-fa88-47bb-b530-822d01e3f235",
   "metadata": {},
   "outputs": [
    {
     "data": {
      "image/png": "[encoded data removed]",
      "text/plain": [
       "<Figure size 640x480 with 1 Axes>"
      ]
     },
     "metadata": {},
     "output_type": "display_data"
    }
   ],
   "source": [
    "plt.plot(train_losses, label='Train Loss')\n",
    "plt.plot(val_losses, label='Validation Loss')\n",
    "plt.grid()\n",
    "plt.title('Loss Per Epoch')\n",
    "plt.legend()\n",
    "plt.show()"
   ]
  },
  {
   "cell_type": "markdown",
   "id": "2d9ebe9f-392c-4b0c-9dbe-0c07cd3f9cf0",
   "metadata": {},
   "source": [
    "## Model Testing"
   ]
  },
  {
   "cell_type": "code",
   "execution_count": 14,
   "id": "58d9a011-533b-49a7-a117-a2be9210adda",
   "metadata": {},
   "outputs": [],
   "source": [
    "data = pd.read_csv('DataFiles/mnist_test.csv')"
   ]
  },
  {
   "cell_type": "code",
   "execution_count": 15,
   "id": "f95390d7-496f-42f5-a480-62612c32100d",
   "metadata": {},
   "outputs": [
    {
     "data": {
      "text/plain": [
       "(10000,)"
      ]
     },
     "execution_count": 15,
     "metadata": {},
     "output_type": "execute_result"
    }
   ],
   "source": [
    "labels = data['label']\n",
    "labels.shape"
   ]
  },
  {
   "cell_type": "code",
   "execution_count": 16,
   "id": "3a013982-2b04-4f41-8867-535890797f1e",
   "metadata": {},
   "outputs": [],
   "source": [
    "rowPics = data.drop(['label'], axis=1)\n",
    "rowPics = np.array(rowPics)"
   ]
  },
  {
   "cell_type": "code",
   "execution_count": 17,
   "id": "0ff4e7a8-d76e-4c26-ab3d-f5ba48d70711",
   "metadata": {},
   "outputs": [
    {
     "data": {
      "text/plain": [
       "(10000, 1, 28, 28)"
      ]
     },
     "execution_count": 17,
     "metadata": {},
     "output_type": "execute_result"
    }
   ],
   "source": [
    "pictures = []\n",
    "for i in range(rowPics.shape[0]):\n",
    "    pic = rowPics[i,:]\n",
    "    pictures.append(np.reshape(pic, (1, 28, 28)))\n",
    "pictures = np.array(pictures)\n",
    "pictures.shape"
   ]
  },
  {
   "cell_type": "code",
   "execution_count": 18,
   "id": "17c7a1c9-73a9-47d2-8b94-5c639c95dc72",
   "metadata": {},
   "outputs": [],
   "source": [
    "X = T.tensor(pictures)/255.\n",
    "Y = T.LongTensor(labels)"
   ]
  },
  {
   "cell_type": "code",
   "execution_count": 19,
   "id": "72844d3b-1bca-4809-81aa-a8fa8b5f366a",
   "metadata": {},
   "outputs": [
    {
     "name": "stdout",
     "output_type": "stream",
     "text": [
      "Classification Rate on Test Dataset: 98.31%\n"
     ]
    }
   ],
   "source": [
    "correct_predictions = np.zeros_like(Y)\n",
    "batch_size = 1024\n",
    "n_batches = int(np.ceil(X.shape[0]/batch_size))\n",
    "for i in range(n_batches):\n",
    "    Xbatch = X[i*batch_size:(i+1)*batch_size]\n",
    "    Ybatch = Y[i*batch_size:(i+1)*batch_size]\n",
    "    Yhat = model.forward(Xbatch).detach()\n",
    "    Yhat = T.argmax(Yhat, axis=1)\n",
    "    correct_predictions_batch = np.zeros_like(Ybatch)\n",
    "    correct_predictions_batch[Ybatch == Yhat] = 1\n",
    "    correct_predictions[i*batch_size:(i+1)*batch_size] = np.copy(correct_predictions_batch)\n",
    "print(f'Classification Rate on Test Dataset: {np.mean(correct_predictions)*100:.2f}%')"
   ]
  }
 ],
 "metadata": {
  "kernelspec": {
   "display_name": "Python 3 (ipykernel)",
   "language": "python",
   "name": "python3"
  },
  "language_info": {
   "codemirror_mode": {
    "name": "ipython",
    "version": 3
   },
   "file_extension": ".py",
   "mimetype": "text/x-python",
   "name": "python",
   "nbconvert_exporter": "python",
   "pygments_lexer": "ipython3",
   "version": "3.10.10"
  }
 },
 "nbformat": 4,
 "nbformat_minor": 5
}
